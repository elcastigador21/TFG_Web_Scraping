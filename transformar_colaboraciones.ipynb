{
 "cells": [
  {
   "cell_type": "code",
   "execution_count": 1,
   "id": "478699f5-ad1f-4933-ba0a-b32e8badf4ee",
   "metadata": {},
   "outputs": [],
   "source": [
    "import pandas as pd\n",
    "import ast"
   ]
  },
  {
   "cell_type": "code",
   "execution_count": 2,
   "id": "7e40601c-9ddf-4feb-b717-a9b6293fe663",
   "metadata": {},
   "outputs": [],
   "source": [
    "def sumarPocasColabs(colaboraciones):\n",
    "    pocasColab = 0\n",
    "    for colab in colaboraciones:\n",
    "        if colab.get('Colaboraciones', 0) == 1:\n",
    "            pocasColab += 1\n",
    "    return pocasColab"
   ]
  },
  {
   "cell_type": "code",
   "execution_count": 3,
   "id": "e4ada431-252f-4b7a-b76c-e9155df52b57",
   "metadata": {},
   "outputs": [],
   "source": [
    "def procesarColaboracionesCsv(ruta_csv_entrada, ruta_csv_salida):\n",
    "    df = pd.read_csv(ruta_csv_entrada)\n",
    "    colaboracionesICC = []\n",
    "\n",
    "    for _, row in df.iterrows():\n",
    "        nombre = f\"{row.iloc[0]} {row.iloc[1]}\".strip()\n",
    "        try:\n",
    "            colaboraciones = ast.literal_eval(row.iloc[3])\n",
    "        except Exception as e:\n",
    "            print(f\"Error en colaboraciones de {nombre}: {e}\")\n",
    "            continue\n",
    "\n",
    "        pocasColab = sumarPocasColabs(colaboraciones)\n",
    "        numColaboradores = len(colaboraciones)\n",
    "\n",
    "        icc = 1 - (pocasColab / numColaboradores)\n",
    "        iccNormalizado = 1 - abs(0.5 - icc)\n",
    "    \n",
    "        #Cuando queremos agrupar las colaboraciones totales en una lista\n",
    "        #total = sum(c.get('Colaboraciones', 0) for c in colaboraciones)\n",
    "    \n",
    "        colaboracionesICC.append({'investigador': nombre, 'pocas_colab': pocasColab, 'Numero de Colaboradores': numColaboradores, 'ICC': icc, 'ICC Normalizado': iccNormalizado})\n",
    "\n",
    "    colabDf = pd.DataFrame(colaboracionesICC)\n",
    "    colabDf.to_csv(ruta_csv_salida, index=False, sep=';', decimal=',')\n",
    "    print(f\"CSV limpio guardado como: {ruta_csv_salida}\")"
   ]
  },
  {
   "cell_type": "code",
   "execution_count": 4,
   "id": "344efc4c-44a8-46cd-a095-96cc3e7a0c69",
   "metadata": {},
   "outputs": [
    {
     "name": "stdout",
     "output_type": "stream",
     "text": [
      "CSV limpio guardado como: colaboraciones_ICC.csv\n"
     ]
    }
   ],
   "source": [
    "procesarColaboracionesCsv(\"Datos_TFG/datos_definitivos/datos_catedraticos_colaboraciones_arreglado.csv\", \"colaboraciones_ICC.csv\")"
   ]
  }
 ],
 "metadata": {
  "kernelspec": {
   "display_name": "Python [conda env:base] *",
   "language": "python",
   "name": "conda-base-py"
  },
  "language_info": {
   "codemirror_mode": {
    "name": "ipython",
    "version": 3
   },
   "file_extension": ".py",
   "mimetype": "text/x-python",
   "name": "python",
   "nbconvert_exporter": "python",
   "pygments_lexer": "ipython3",
   "version": "3.12.3"
  }
 },
 "nbformat": 4,
 "nbformat_minor": 5
}
