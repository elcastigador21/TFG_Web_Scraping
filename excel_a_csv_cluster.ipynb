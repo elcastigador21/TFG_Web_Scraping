{
 "cells": [
  {
   "cell_type": "code",
   "execution_count": 1,
   "id": "b5bb4193-09a4-4a86-9883-64d9cb79f880",
   "metadata": {},
   "outputs": [],
   "source": [
    "import pandas as pd"
   ]
  },
  {
   "cell_type": "code",
   "execution_count": 2,
   "id": "5a222828-fa37-4f64-9257-b93b260a3d7a",
   "metadata": {},
   "outputs": [],
   "source": [
    "DatosRanking = pd.read_excel('Ranking_sin_escuela_universitaria/ranking_con_graficos_2.xlsx', usecols=\"A, I, J, K, L\")\n",
    "\n",
    "# Le ponemos un encabezado a cada columna\n",
    "DatosRanking.columns = [\"Investigador\", \"Docencia_Score\", \"Investigacion_Score\", \"Transferencia_Score\", \"Gestion_Score\"]\n",
    "\n",
    "DatosRanking.to_csv(\"datos_cluster_colab.csv\", index=False, sep=';', decimal=\",\", encoding=\"utf-8\")"
   ]
  }
 ],
 "metadata": {
  "kernelspec": {
   "display_name": "Python [conda env:base] *",
   "language": "python",
   "name": "conda-base-py"
  },
  "language_info": {
   "codemirror_mode": {
    "name": "ipython",
    "version": 3
   },
   "file_extension": ".py",
   "mimetype": "text/x-python",
   "name": "python",
   "nbconvert_exporter": "python",
   "pygments_lexer": "ipython3",
   "version": "3.12.3"
  }
 },
 "nbformat": 4,
 "nbformat_minor": 5
}
