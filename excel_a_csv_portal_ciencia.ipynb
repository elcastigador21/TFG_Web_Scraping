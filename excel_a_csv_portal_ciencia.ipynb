{
 "cells": [
  {
   "cell_type": "code",
   "execution_count": 1,
   "id": "b5bb4193-09a4-4a86-9883-64d9cb79f880",
   "metadata": {},
   "outputs": [],
   "source": [
    "import pandas as pd"
   ]
  },
  {
   "cell_type": "code",
   "execution_count": 2,
   "id": "5a222828-fa37-4f64-9257-b93b260a3d7a",
   "metadata": {},
   "outputs": [],
   "source": [
    "# Se leen unicamente las columnas A y B del excel donde tenemos la informacion sobre profes y departamentos\n",
    "ListaCatedraticos = pd.read_excel('lista_catedraticos_nombre_apellidos.xlsx', usecols=\"A:C\")\n",
    "\n",
    "# Le ponemos un encabezado a cada columna\n",
    "ListaCatedraticos.columns = [\"Nombre\", \"Apellidos\", \"Departamento\"]\n",
    "\n",
    "# Quitamos espacios y pasamos todo el texto de los departamentos a minusculas\n",
    "ListaCatedraticos[\"Departamento\"] = ListaCatedraticos[\"Departamento\"].astype(str).str.strip()\n",
    "\n",
    "# Quitamos los espacios sobrantes de los nombres de los profesores\n",
    "ListaCatedraticos[\"Nombre\"] = ListaCatedraticos[\"Nombre\"].str.strip()\n",
    "ListaCatedraticos[\"Apellidos\"] = ListaCatedraticos[\"Apellidos\"].str.strip()\n",
    "\n",
    "agrupado = ListaCatedraticos.groupby(\"Departamento\").agg({\n",
    "    \"Nombre\": lambda x: \", \".join(x),\n",
    "    \"Apellidos\": lambda x: \", \".join(x)\n",
    "}).reset_index()\n",
    "\n",
    "agrupado.to_csv(\"profesores_por_departamento.csv\", index=False)"
   ]
  },
  {
   "cell_type": "raw",
   "id": "df02f3ff-0e5a-46d6-b63a-48241053b2cc",
   "metadata": {},
   "source": [
    "#print(unicodedata.category('\\u0342'))\n",
    "#print(unidecode(\"Mamá\"))\n",
    "#allowedChar = set(\"QWERTYUIOPASDFGHJKLÑZXCVBNMqwertyuiopasdfghjklñzxcvbnm~\")\n",
    "#''.join(\n",
    "        #c for c in unicodedata.normalize('NFD', 'ñÑáÁéÉíÍóÓúÚ')\n",
    "        #if c in allowedChar\n",
    "        #if unicodedata.category(c) == 'Lu' or unicodedata.category(c) == 'Ll' or c == 'ñ'\n",
    "# )\n",
    "#ListaCatedraticos = ListaCatedraticos[[ListaCatedraticos.columns[1], ListaCatedraticos.columns[0]]]\n",
    "def normalizar(s):\n",
    "    reemplazos = ((\"á\", \"a\"),(\"é\", \"e\"),(\"í\", \"i\"),(\"ó\", \"o\"),(\"ú\", \"u\"))\n",
    "    \n",
    "    for a, b in reemplazos:\n",
    "        s = s.replace(a, b).replace(a.upper(), b.upper())\n",
    "    return s\n",
    "\n",
    "print(normalizar(\"ñÑáÁéÉíÍóÓúÚ\"))"
   ]
  },
  {
   "cell_type": "code",
   "execution_count": null,
   "id": "cf20ad6c-1f75-4f9e-ae83-a94aff0c9004",
   "metadata": {},
   "outputs": [],
   "source": []
  }
 ],
 "metadata": {
  "kernelspec": {
   "display_name": "Python [conda env:base] *",
   "language": "python",
   "name": "conda-base-py"
  },
  "language_info": {
   "codemirror_mode": {
    "name": "ipython",
    "version": 3
   },
   "file_extension": ".py",
   "mimetype": "text/x-python",
   "name": "python",
   "nbconvert_exporter": "python",
   "pygments_lexer": "ipython3",
   "version": "3.12.3"
  }
 },
 "nbformat": 4,
 "nbformat_minor": 5
}
