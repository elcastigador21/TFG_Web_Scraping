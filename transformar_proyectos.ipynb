{
 "cells": [
  {
   "cell_type": "code",
   "execution_count": 1,
   "id": "5ec9e1a6-d4ad-4b45-9333-4553e5dc258a",
   "metadata": {},
   "outputs": [],
   "source": [
    "import pandas as pd\n",
    "import ast"
   ]
  },
  {
   "cell_type": "code",
   "execution_count": 2,
   "id": "9bad81bb-32cb-4524-b688-e1f0f140abba",
   "metadata": {},
   "outputs": [],
   "source": [
    "def procesar_proyectos_csv(ruta_csv_entrada, ruta_csv_salida):\n",
    "    df = pd.read_csv(ruta_csv_entrada)\n",
    "    proyectos_expandidos = []\n",
    "\n",
    "    for _, row in df.iterrows():\n",
    "        nombre = f\"{row.iloc[0]} {row.iloc[1]}\".strip()\n",
    "        try:\n",
    "            proyectos = ast.literal_eval(row.iloc[3])\n",
    "        except Exception as e:\n",
    "            print(f\"Error procesando proyectos de {nombre}: {e}\")\n",
    "            continue\n",
    "        \n",
    "        for p in proyectos:\n",
    "            categoria = p.get('Categoria', '').strip().upper()\n",
    "            importe_str = p.get('Importe', '0').replace('.', '').replace(',', '.').split()[0]\n",
    "            try:\n",
    "                euros = float(importe_str)\n",
    "            except:\n",
    "                euros = 0.0\n",
    "            responsable = p.get('Responsable', '').strip().lower() == 'sí'\n",
    "\n",
    "            proyectos_expandidos.append({\n",
    "                'investigador': nombre,\n",
    "                'categoria': categoria,\n",
    "                'euros': euros,\n",
    "                'responsable': responsable\n",
    "            })\n",
    "\n",
    "    proyectos_df = pd.DataFrame(proyectos_expandidos)\n",
    "    proyectos_df.to_csv(ruta_csv_salida, index=False)\n",
    "    print(f\"✅ CSV limpio guardado como: {ruta_csv_salida}\")"
   ]
  },
  {
   "cell_type": "code",
   "execution_count": 3,
   "id": "18b3a55c-8075-40f6-9015-6b1cd16352ce",
   "metadata": {},
   "outputs": [
    {
     "name": "stdout",
     "output_type": "stream",
     "text": [
      "✅ CSV limpio guardado como: proyectos.csv\n"
     ]
    }
   ],
   "source": [
    "procesar_proyectos_csv(\"datos_catedraticos_proyectos_arreglado.csv\", \"proyectos.csv\")"
   ]
  }
 ],
 "metadata": {
  "kernelspec": {
   "display_name": "Python [conda env:base] *",
   "language": "python",
   "name": "conda-base-py"
  },
  "language_info": {
   "codemirror_mode": {
    "name": "ipython",
    "version": 3
   },
   "file_extension": ".py",
   "mimetype": "text/x-python",
   "name": "python",
   "nbconvert_exporter": "python",
   "pygments_lexer": "ipython3",
   "version": "3.12.3"
  }
 },
 "nbformat": 4,
 "nbformat_minor": 5
}
