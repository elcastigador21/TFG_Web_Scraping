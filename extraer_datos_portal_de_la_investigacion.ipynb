{
 "cells": [
  {
   "cell_type": "code",
   "execution_count": 2,
   "id": "65e73b2d-c73f-495b-b7bd-23ec724f42c3",
   "metadata": {},
   "outputs": [],
   "source": [
    "from selenium import webdriver\n",
    "from webdriver_manager.firefox import GeckoDriverManager\n",
    "from selenium.webdriver.firefox.service import Service as FirefoxService\n",
    "from selenium.webdriver.common.by import By\n",
    "from selenium.webdriver.support.ui import WebDriverWait\n",
    "from selenium.webdriver.support import expected_conditions as EC\n",
    "import csv\n",
    "import time"
   ]
  },
  {
   "cell_type": "code",
   "execution_count": 3,
   "id": "b2a90644-77ed-42ce-aba4-e4f404f634b6",
   "metadata": {},
   "outputs": [],
   "source": [
    "service = FirefoxService(executable_path=GeckoDriverManager().install())\n",
    "driver = webdriver.Firefox(service=service)"
   ]
  },
  {
   "cell_type": "code",
   "execution_count": 4,
   "id": "ce2520da-34a1-4146-af5a-22e984ff2935",
   "metadata": {},
   "outputs": [],
   "source": [
    "driver.get(\"https://investigacion.uva.es/CawDOS//jsf/principal/principal.jsf\")"
   ]
  },
  {
   "cell_type": "markdown",
   "id": "171ac78d-7f9c-43ca-975b-9ee28fe41750",
   "metadata": {},
   "source": [
    "### Código para saber como estaban los nombres de los enlaces a"
   ]
  },
  {
   "cell_type": "raw",
   "id": "c45e2a32-8070-48b8-aa05-bc9d326c1a53",
   "metadata": {},
   "source": [
    "links = driver.find_elements(By.TAG_NAME, 'a')\n",
    "\n",
    "# Imprime su texto visible e id\n",
    "for link in links:\n",
    "    text = link.text.strip()\n",
    "    link_id = link.get_attribute('id')\n",
    "    print(f\"Texto: '{text}' | ID: {link_id}\")"
   ]
  },
  {
   "cell_type": "code",
   "execution_count": 6,
   "id": "f03ae888-a1f3-4354-bf42-c6d5e0ca848c",
   "metadata": {},
   "outputs": [],
   "source": [
    "link = driver.find_element(By.LINK_TEXT, \"DEPARTAMENTO\")\n",
    "link.click()\n",
    "#print(driver.page_source)"
   ]
  },
  {
   "cell_type": "code",
   "execution_count": 7,
   "id": "25a54c6c-015c-4e88-a026-32729e2c1264",
   "metadata": {},
   "outputs": [
    {
     "name": "stdout",
     "output_type": "stream",
     "text": [
      "Gato Casado, Angel Luis- error de pagina\n",
      "Llanos Ferraris, Diego Rafael- error de pagina\n"
     ]
    },
    {
     "ename": "KeyboardInterrupt",
     "evalue": "",
     "output_type": "error",
     "traceback": [
      "\u001b[1;31m---------------------------------------------------------------------------\u001b[0m",
      "\u001b[1;31mKeyboardInterrupt\u001b[0m                         Traceback (most recent call last)",
      "Cell \u001b[1;32mIn[7], line 5\u001b[0m\n\u001b[0;32m      3\u001b[0m \u001b[38;5;28mnext\u001b[39m(spamreader, \u001b[38;5;28;01mNone\u001b[39;00m)\n\u001b[0;32m      4\u001b[0m \u001b[38;5;28;01mfor\u001b[39;00m row \u001b[38;5;129;01min\u001b[39;00m spamreader:\n\u001b[1;32m----> 5\u001b[0m     time\u001b[38;5;241m.\u001b[39msleep(\u001b[38;5;241m5\u001b[39m)\n\u001b[0;32m      6\u001b[0m     wait \u001b[38;5;241m=\u001b[39m WebDriverWait(driver, timeout\u001b[38;5;241m=\u001b[39m\u001b[38;5;241m10\u001b[39m)\n\u001b[0;32m      7\u001b[0m     elem \u001b[38;5;241m=\u001b[39m wait\u001b[38;5;241m.\u001b[39muntil(EC\u001b[38;5;241m.\u001b[39mvisibility_of_element_located((By\u001b[38;5;241m.\u001b[39mPARTIAL_LINK_TEXT, row[\u001b[38;5;241m0\u001b[39m]\u001b[38;5;241m.\u001b[39mupper())))\n",
      "\u001b[1;31mKeyboardInterrupt\u001b[0m: "
     ]
    }
   ],
   "source": [
    "with open('profesores_por_departamento.csv', 'r', encoding='utf-8', newline='\\n') as csvfile:\n",
    "    spamreader = csv.reader(csvfile, delimiter=',', quotechar='\"')\n",
    "    next(spamreader, None)\n",
    "    for row in spamreader:\n",
    "        time.sleep(10)\n",
    "        wait = WebDriverWait(driver, timeout=10)\n",
    "        elem = wait.until(EC.visibility_of_element_located((By.PARTIAL_LINK_TEXT, row[0].upper())))\n",
    "        elem.click()\n",
    "        for profesor in row[1].split(\"; \"):\n",
    "            wait = WebDriverWait(driver, timeout=10)\n",
    "            profeLink = wait.until(EC.visibility_of_element_located((By.PARTIAL_LINK_TEXT, profesor.upper())))\n",
    "            profeLink.click()\n",
    "            time.sleep(10)\n",
    "            if driver.current_url != \"https://investigacion.uva.es/CawDOS//jsf/error/error.jsf\":\n",
    "                print(profesor)\n",
    "            else:\n",
    "                print(profesor + '- error de pagina')\n",
    "            driver.execute_script(\"window.history.go(-1)\")\n",
    "        driver.back()\n",
    "            #driver.find_element(By.CLASS_NAME, \"botoBack\").click()\n",
    "        #driver.find_element(By.CLASS_NAME, \"botoBack\").click()\n",
    "        link = driver.find_element(By.LINK_TEXT, \"DEPARTAMENTO\")\n",
    "        link.click()"
   ]
  },
  {
   "cell_type": "markdown",
   "id": "87823207-627e-418d-ae8f-b1cac102167a",
   "metadata": {},
   "source": [
    "### Búsqueda de los profesores"
   ]
  },
  {
   "cell_type": "code",
   "execution_count": null,
   "id": "7d8cf9e3-a13b-4da8-9d7b-439a46a911ea",
   "metadata": {},
   "outputs": [],
   "source": [
    "#wait = WebDriverWait(driver, 2)\n",
    "#profeLink = wait.until(EC.visibility_of_element_located((By.ID, 'resultadosPersonal:j_id_id480:t1:6:j_id_id495')))\n",
    "#profeLink.click()"
   ]
  },
  {
   "cell_type": "code",
   "execution_count": null,
   "id": "aff2f642-acd6-4a46-b28c-22508b28662e",
   "metadata": {},
   "outputs": [],
   "source": []
  }
 ],
 "metadata": {
  "kernelspec": {
   "display_name": "Python [conda env:base] *",
   "language": "python",
   "name": "conda-base-py"
  },
  "language_info": {
   "codemirror_mode": {
    "name": "ipython",
    "version": 3
   },
   "file_extension": ".py",
   "mimetype": "text/x-python",
   "name": "python",
   "nbconvert_exporter": "python",
   "pygments_lexer": "ipython3",
   "version": "3.12.3"
  }
 },
 "nbformat": 4,
 "nbformat_minor": 5
}
